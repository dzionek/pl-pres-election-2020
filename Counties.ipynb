{
 "cells": [
  {
   "cell_type": "markdown",
   "metadata": {},
   "source": [
    "# Analysis of the results by county"
   ]
  },
  {
   "cell_type": "markdown",
   "metadata": {},
   "source": [
    "This is the analysis by county. The main notebook of the whole analysis is located at [Analysis.ipynb](Analysis.ipynb)."
   ]
  },
  {
   "cell_type": "markdown",
   "metadata": {},
   "source": [
    "## Import libraries and modules"
   ]
  },
  {
   "cell_type": "markdown",
   "metadata": {},
   "source": [
    "We will make use of the following libraries in this notebook:"
   ]
  },
  {
   "cell_type": "code",
   "execution_count": null,
   "metadata": {},
   "outputs": [],
   "source": [
    "import pandas as pd\n",
    "import json\n",
    "import plotly.express as px\n",
    "import scipy.stats as sp\n",
    "import numpy as np\n",
    "from IPython.display import display, Markdown"
   ]
  },
  {
   "cell_type": "markdown",
   "metadata": {},
   "source": [
    "We also import our own constants and functions."
   ]
  },
  {
   "cell_type": "code",
   "execution_count": null,
   "metadata": {},
   "outputs": [],
   "source": [
    "from own_data import candidates, candidates_colors, poland_center, poland_zoom, map_margin, opacity\n",
    "from utils import comma_to_dot, get_last_name"
   ]
  },
  {
   "cell_type": "markdown",
   "metadata": {},
   "source": [
    "## Parse the results data"
   ]
  },
  {
   "cell_type": "markdown",
   "metadata": {},
   "source": [
    "We read the csv files with the results by county given as a percentage. The data is taken from the website of the [National Electoral Commission](https://wybory.gov.pl/prezydent20200628/en/dane_w_arkuszach). Poland uses comma as a decimal separator. We convert the data to dot-separated numbers so that it works better with the libraries."
   ]
  },
  {
   "cell_type": "code",
   "execution_count": null,
   "metadata": {},
   "outputs": [],
   "source": [
    "results_counties_percent_df = pd.read_csv('data/results/results_by_county_percent.csv', sep=';')\n",
    "results_counties_percent_df = results_counties_percent_df[['Kod TERYT', 'Powiat'] + candidates]\n",
    "\n",
    "for candidate in candidates:\n",
    "    results_counties_percent_df[candidate] = results_counties_percent_df[candidate].map(comma_to_dot)"
   ]
  },
  {
   "cell_type": "code",
   "execution_count": null,
   "metadata": {},
   "outputs": [],
   "source": [
    "results_counties_percent_df.head()"
   ]
  },
  {
   "cell_type": "markdown",
   "metadata": {},
   "source": [
    "## Parse the geographical data"
   ]
  },
  {
   "cell_type": "markdown",
   "metadata": {},
   "source": [
    "Additionally, we import the geographical data about borders of each county. The data is derived from the [Head Office of Geodesy and Cartography](http://www.gugik.gov.pl/pzgik/dane-bez-oplat/dane-z-panstwowego-rejestru-granic-i-powierzchni-jednostek-podzialow-terytorialnych-kraju-prg). The webiste of [GIS Support PL](https://gis-support.pl/granice-administracyjne/) let us solely download the package with counties. To create maps I will use GeoJSON format. The data from the websites mentioned before has the *.shp* extension, so I have formatted it to GeoJSON using [MapShaper](https://mapshaper.org)."
   ]
  },
  {
   "cell_type": "code",
   "execution_count": null,
   "metadata": {},
   "outputs": [],
   "source": [
    "with open('data/geojson/counties.json', encoding='utf-8') as response:\n",
    "    counties = json.load(response)"
   ]
  },
  {
   "cell_type": "code",
   "execution_count": null,
   "metadata": {},
   "outputs": [],
   "source": [
    "counties['features'][0]['properties']"
   ]
  },
  {
   "cell_type": "markdown",
   "metadata": {},
   "source": [
    "## Integrate the two data sets"
   ]
  },
  {
   "cell_type": "markdown",
   "metadata": {},
   "source": [
    "The TERYT code is a unique code of each administrative unit. In the election results the code has two extra 0s. Additionally, it doesn't have a leading zero when a voivodeship number consists only of one digit. We are going to fix these issues to connect these two data sets."
   ]
  },
  {
   "cell_type": "code",
   "execution_count": null,
   "metadata": {},
   "outputs": [],
   "source": [
    "def fix_teryt_county(teryt):\n",
    "    \"\"\"Fix TERYT code to integrate the two datasets for counties.\"\"\"\n",
    "    teryt = str(teryt)\n",
    "    \n",
    "    if len(teryt) == 5:\n",
    "        teryt = '0' + teryt\n",
    "    \n",
    "    return teryt[:-2]"
   ]
  },
  {
   "cell_type": "code",
   "execution_count": null,
   "metadata": {},
   "outputs": [],
   "source": [
    "results_counties_percent_df['Kod TERYT'] = results_counties_percent_df['Kod TERYT'].astype(str).map(fix_teryt_county)"
   ]
  },
  {
   "cell_type": "code",
   "execution_count": null,
   "metadata": {},
   "outputs": [],
   "source": [
    "results_counties_percent_df.head()"
   ]
  },
  {
   "cell_type": "markdown",
   "metadata": {},
   "source": [
    "This is the location of the key that will join our data sets in counties JSON: "
   ]
  },
  {
   "cell_type": "code",
   "execution_count": null,
   "metadata": {},
   "outputs": [],
   "source": [
    "counties['features'][0]['properties']['JPT_KOD_JE']"
   ]
  },
  {
   "cell_type": "markdown",
   "metadata": {},
   "source": [
    "## Plot maps"
   ]
  },
  {
   "cell_type": "markdown",
   "metadata": {},
   "source": [
    "We finally plot the data on maps."
   ]
  },
  {
   "cell_type": "code",
   "execution_count": null,
   "metadata": {},
   "outputs": [],
   "source": [
    "def get_figure_results_by_county(candidate):\n",
    "    \"\"\"Get figure showing a map of results of the given cadidate by county.\"\"\"\n",
    "    candidate_df = results_counties_percent_df[['Kod TERYT', 'Powiat', candidate]]\n",
    "    \n",
    "    # We remove the results from ships and abroad because they will not be shown on the map.\n",
    "    candidate_df = candidate_df[candidate_df.Powiat != 'statki']\n",
    "    candidate_df = candidate_df[candidate_df.Powiat != 'zagranica']\n",
    "    \n",
    "    fig = px.choropleth_mapbox(\n",
    "        candidate_df, geojson=counties, color=candidate,\n",
    "        locations='Kod TERYT', featureidkey=\"properties.JPT_KOD_JE\",\n",
    "        center=poland_center,\n",
    "        opacity=opacity, color_continuous_scale=candidates_colors[candidate],\n",
    "        hover_data={'Powiat': True, 'Kod TERYT': False},\n",
    "        mapbox_style=\"carto-positron\", zoom=poland_zoom\n",
    "    )\n",
    "    \n",
    "    fig.update_layout(margin=map_margin)\n",
    "    \n",
    "    return fig"
   ]
  },
  {
   "cell_type": "code",
   "execution_count": null,
   "metadata": {
    "scrolled": false
   },
   "outputs": [],
   "source": [
    "for candidate in candidates:\n",
    "    display(Markdown(f'### Results of {candidate} by county'))\n",
    "    get_figure_results_by_county(candidate).show()"
   ]
  },
  {
   "cell_type": "markdown",
   "metadata": {},
   "source": [
    "## Who won in each county?"
   ]
  },
  {
   "cell_type": "markdown",
   "metadata": {},
   "source": [
    "#### Find the winner in each county"
   ]
  },
  {
   "cell_type": "code",
   "execution_count": null,
   "metadata": {},
   "outputs": [],
   "source": [
    "winners_counties_df = pd.concat([\n",
    "    results_counties_percent_df[candidates].idxmax(axis=1).rename('Winner').to_frame(),\n",
    "    results_counties_percent_df[candidates].max(axis=1).rename('Result').to_frame(),\n",
    "    results_counties_percent_df[['Powiat', 'Kod TERYT']]\n",
    "], axis=1)"
   ]
  },
  {
   "cell_type": "code",
   "execution_count": null,
   "metadata": {},
   "outputs": [],
   "source": [
    "winners_counties_df.head(1)"
   ]
  },
  {
   "cell_type": "markdown",
   "metadata": {},
   "source": [
    "#### Plot the map"
   ]
  },
  {
   "cell_type": "code",
   "execution_count": null,
   "metadata": {},
   "outputs": [],
   "source": [
    "winners_counties_fig = px.choropleth_mapbox(\n",
    "    winners_counties_df, geojson=counties, color='Winner',\n",
    "    locations='Kod TERYT', featureidkey=\"properties.JPT_KOD_JE\",\n",
    "    center=poland_center,\n",
    "    opacity=opacity, color_discrete_sequence=px.colors.qualitative.D3,\n",
    "    hover_data={'Powiat': True, 'Kod TERYT': False, 'Result': True},\n",
    "    mapbox_style=\"carto-positron\", zoom=poland_zoom\n",
    ")\n",
    "\n",
    "winners_counties_fig.update_layout(margin=map_margin)\n",
    "\n",
    "winners_counties_fig.show()"
   ]
  },
  {
   "cell_type": "markdown",
   "metadata": {},
   "source": [
    "## And what about the second place?"
   ]
  },
  {
   "cell_type": "markdown",
   "metadata": {},
   "source": [
    "#### Find second results"
   ]
  },
  {
   "cell_type": "code",
   "execution_count": null,
   "metadata": {},
   "outputs": [],
   "source": [
    "values = results_counties_percent_df[candidates].values\n",
    "first_third_highest = values[\n",
    "    np.arange(len(results_counties_percent_df))[:,None],np.argpartition(-values,np.arange(4),axis=1)[:,:4]\n",
    "]\n",
    "second_values = first_third_highest[:,1]"
   ]
  },
  {
   "cell_type": "code",
   "execution_count": null,
   "metadata": {
    "scrolled": false
   },
   "outputs": [],
   "source": [
    "second_values[:5]"
   ]
  },
  {
   "cell_type": "code",
   "execution_count": null,
   "metadata": {},
   "outputs": [],
   "source": [
    "second_values_df = pd.DataFrame(second_values, columns=['Result'])"
   ]
  },
  {
   "cell_type": "code",
   "execution_count": null,
   "metadata": {},
   "outputs": [],
   "source": [
    "second_values_df.head()"
   ]
  },
  {
   "cell_type": "markdown",
   "metadata": {},
   "source": [
    "#### Match them with the candidates"
   ]
  },
  {
   "cell_type": "code",
   "execution_count": null,
   "metadata": {},
   "outputs": [],
   "source": [
    "def get_col_name(row):\n",
    "    \"\"\"Get the column name of the column which has the value in the corresponding data frame.\"\"\"\n",
    "    b = (results_counties_percent_df.loc[row.name] == row['Result'])\n",
    "    return b.index[b.argmax()]"
   ]
  },
  {
   "cell_type": "code",
   "execution_count": null,
   "metadata": {},
   "outputs": [],
   "source": [
    "second_places_df = pd.concat([\n",
    "    second_values_df.apply(get_col_name, axis=1).rename('Second place').to_frame(),\n",
    "    second_values_df,\n",
    "    results_counties_percent_df[['Powiat', 'Kod TERYT']]\n",
    "], axis=1)"
   ]
  },
  {
   "cell_type": "code",
   "execution_count": null,
   "metadata": {},
   "outputs": [],
   "source": [
    "second_places_df.head()"
   ]
  },
  {
   "cell_type": "markdown",
   "metadata": {},
   "source": [
    "#### Plot the map"
   ]
  },
  {
   "cell_type": "code",
   "execution_count": null,
   "metadata": {},
   "outputs": [],
   "source": [
    "second_places_fig = px.choropleth_mapbox(\n",
    "    second_places_df, geojson=counties, color='Second place',\n",
    "    locations='Kod TERYT', featureidkey=\"properties.JPT_KOD_JE\",\n",
    "    center=poland_center, opacity=opacity,\n",
    "    color_discrete_sequence=['#FF7F0E', '#1F77B4', 'rgb(102,102,102)', 'rgb(255,217,47)'],\n",
    "    hover_data={'Powiat': True, 'Kod TERYT': False, 'Result': True},\n",
    "    mapbox_style=\"carto-positron\", zoom=poland_zoom\n",
    ")\n",
    "\n",
    "second_places_fig.update_layout(margin=map_margin)\n",
    "\n",
    "second_places_fig.show()"
   ]
  },
  {
   "cell_type": "markdown",
   "metadata": {},
   "source": [
    "## Last but not least – the third place"
   ]
  },
  {
   "cell_type": "code",
   "execution_count": null,
   "metadata": {},
   "outputs": [],
   "source": [
    "third_values = first_third_highest[:,2]\n",
    "third_values_df = pd.DataFrame(third_values, columns=['Result'])\n",
    "\n",
    "third_places_df = pd.concat([\n",
    "    third_values_df.apply(get_col_name, axis=1).rename('Third place').to_frame(),\n",
    "    third_values_df,\n",
    "    results_counties_percent_df[['Powiat', 'Kod TERYT']]\n",
    "], axis=1)"
   ]
  },
  {
   "cell_type": "code",
   "execution_count": null,
   "metadata": {},
   "outputs": [],
   "source": [
    "third_places_df.head()"
   ]
  },
  {
   "cell_type": "markdown",
   "metadata": {},
   "source": [
    "#### Plot the map"
   ]
  },
  {
   "cell_type": "code",
   "execution_count": null,
   "metadata": {},
   "outputs": [],
   "source": [
    "third_places_fig = px.choropleth_mapbox(\n",
    "    third_places_df, geojson=counties, color='Third place',\n",
    "    locations='Kod TERYT', featureidkey=\"properties.JPT_KOD_JE\",\n",
    "    center=poland_center, opacity=opacity,\n",
    "    color_discrete_sequence=['rgb(255,217,47)', 'rgb(102,102,102)', '#FF7F0E'],\n",
    "    hover_data={'Powiat': True, 'Kod TERYT': False, 'Result': True},\n",
    "    mapbox_style=\"carto-positron\", zoom=poland_zoom\n",
    ")\n",
    "\n",
    "third_places_fig.update_layout(margin=map_margin)\n",
    "\n",
    "third_places_fig.show()"
   ]
  },
  {
   "cell_type": "markdown",
   "metadata": {},
   "source": [
    "## Disproportions between results "
   ]
  },
  {
   "cell_type": "markdown",
   "metadata": {},
   "source": [
    "Analyzing these maps, one can see that for some candidates their voters are spread similarly around the whole country. Meanwhile, the others have much greater support in some regions. Who is the candidate of the most equally spread electorate?"
   ]
  },
  {
   "cell_type": "code",
   "execution_count": null,
   "metadata": {},
   "outputs": [],
   "source": [
    "coefficient_of_variation_df = pd.DataFrame(\n",
    "    results_counties_percent_df[candidates].apply(sp.variation)\n",
    ").sort_values(by=0).transpose()\n",
    "\n",
    "coefficient_of_variation_df"
   ]
  },
  {
   "cell_type": "code",
   "execution_count": null,
   "metadata": {},
   "outputs": [],
   "source": [
    "coefficient_of_variation_df = coefficient_of_variation_df.transpose().reset_index()\n",
    "coefficient_of_variation_df.columns = ['Candidate', 'Coefficient of variation']\n",
    "coefficient_of_variation_df['Candidate'] = coefficient_of_variation_df['Candidate'].apply(get_last_name)"
   ]
  },
  {
   "cell_type": "code",
   "execution_count": null,
   "metadata": {},
   "outputs": [],
   "source": [
    "coefficient_of_variation_fig = px.bar(\n",
    "    coefficient_of_variation_df, x='Candidate', y='Coefficient of variation',\n",
    "    color='Coefficient of variation', color_continuous_scale=px.colors.diverging.RdYlGn[::-1],\n",
    "    title='Coefficient of variation of voters by county',\n",
    ")\n",
    "\n",
    "coefficient_of_variation_fig.show()"
   ]
  },
  {
   "cell_type": "markdown",
   "metadata": {},
   "source": [
    "As we see, Krzysztof Bosak is the most equally supported candidate in Poland. He is follwed by Stanisław Żółek and Andrzej Duda. Rafał Trzaskowski is the 8th in this comparison. Marek Jakubiak is at the end of the list."
   ]
  },
  {
   "cell_type": "markdown",
   "metadata": {},
   "source": [
    "## How many voters will not have their first-choice candidate in the second round?"
   ]
  },
  {
   "cell_type": "markdown",
   "metadata": {},
   "source": [
    "The crucial challange Andrzej Duda and Rafał Trzaskowski will need to face in the second round is to convince the voters who did not vote for them in the first round. Which counties have the most voters to convince? In other words, what counties should the two candidates focus on the most in the campaign?"
   ]
  },
  {
   "cell_type": "markdown",
   "metadata": {},
   "source": [
    "We first find the number of voters of the other candidates in each county."
   ]
  },
  {
   "cell_type": "code",
   "execution_count": null,
   "metadata": {},
   "outputs": [],
   "source": [
    "results_counties_df = pd.read_csv('data/results/results_by_county.csv', sep=';')"
   ]
  },
  {
   "cell_type": "code",
   "execution_count": null,
   "metadata": {},
   "outputs": [],
   "source": [
    "candidates_2nd_round = ['Andrzej Sebastian DUDA', 'Rafał Kazimierz TRZASKOWSKI']\n",
    "\n",
    "candidates_no_2nd_round = [\n",
    "    candidate \n",
    "    for candidate in candidates\n",
    "    if candidate not in candidates_2nd_round\n",
    "]\n",
    "\n",
    "candidates_no_2nd_round_df = pd.DataFrame(results_counties_df[candidates_no_2nd_round].sum(axis=1))\n",
    "candidates_no_2nd_round_df.columns = ['Other electorate']\n",
    "\n",
    "results_potential_2nd_round_df = pd.concat(\n",
    "    [results_counties_df[['Powiat', 'Kod TERYT']], candidates_no_2nd_round_df], axis=1\n",
    ")\n",
    "\n",
    "results_potential_2nd_round_df['Kod TERYT'] = results_potential_2nd_round_df['Kod TERYT'].astype(str).map(fix_teryt_county)\n",
    "\n",
    "results_potential_2nd_round_df.head()"
   ]
  },
  {
   "cell_type": "markdown",
   "metadata": {},
   "source": [
    "We plot it."
   ]
  },
  {
   "cell_type": "code",
   "execution_count": null,
   "metadata": {},
   "outputs": [],
   "source": [
    "# We remove the results from ships and abroad because they will not be shown on the map\n",
    "results_potential_2nd_round_df = results_potential_2nd_round_df[results_potential_2nd_round_df.Powiat != 'statki']\n",
    "results_potential_2nd_round_df = results_potential_2nd_round_df[results_potential_2nd_round_df.Powiat != 'zagranica']\n",
    "\n",
    "results_potential_2nd_round_fig = px.choropleth_mapbox(\n",
    "    results_potential_2nd_round_df, geojson=counties, color='Other electorate',\n",
    "    locations='Kod TERYT', featureidkey=\"properties.JPT_KOD_JE\",\n",
    "    center={\"lat\": 52, \"lon\": 19.1451},\n",
    "    opacity=0.8, color_continuous_scale=px.colors.sequential.Reds,\n",
    "    hover_data={'Powiat': True, 'Kod TERYT': False},\n",
    "    mapbox_style=\"carto-positron\", zoom=5.2\n",
    ")\n",
    "\n",
    "results_potential_2nd_round_fig.update_layout(margin={\"r\":0,\"t\":0,\"l\":0,\"b\":0})\n",
    "results_potential_2nd_round_fig.show()"
   ]
  },
  {
   "cell_type": "markdown",
   "metadata": {},
   "source": [
    "They are mainly in big cities. It might be better to see how this looks in relative electorate."
   ]
  },
  {
   "cell_type": "code",
   "execution_count": null,
   "metadata": {},
   "outputs": [],
   "source": [
    "candidates_no_2nd_round_percent_df = pd.DataFrame(results_counties_percent_df[candidates_no_2nd_round].sum(axis=1))\n",
    "candidates_no_2nd_round_percent_df.columns = ['Other electorate [%]']\n",
    "\n",
    "results_potential_2nd_round_percent_df = pd.concat(\n",
    "    [results_counties_df[['Powiat', 'Kod TERYT']], candidates_no_2nd_round_percent_df], axis=1\n",
    ")\n",
    "\n",
    "results_potential_2nd_round_percent_df['Kod TERYT'] = \\\n",
    "    results_potential_2nd_round_percent_df['Kod TERYT'].astype(str).map(fix_teryt_county)\n",
    "\n",
    "# We remove the results from ships and abroad because they will not be shown on the map\n",
    "results_potential_2nd_round_percent_df = \\\n",
    "    results_potential_2nd_round_percent_df[results_potential_2nd_round_percent_df.Powiat != 'statki']\n",
    "results_potential_2nd_round_percent_df = \\\n",
    "results_potential_2nd_round_percent_df[results_potential_2nd_round_percent_df.Powiat != 'zagranica']\n",
    "\n",
    "results_potential_2nd_round_percent_fig = px.choropleth_mapbox(\n",
    "    results_potential_2nd_round_percent_df, geojson=counties, color='Other electorate [%]',\n",
    "    locations='Kod TERYT', featureidkey=\"properties.JPT_KOD_JE\",\n",
    "    center=poland_center,\n",
    "    opacity=0.8, color_continuous_scale=px.colors.sequential.Reds,\n",
    "    hover_data={'Powiat': True, 'Kod TERYT': False},\n",
    "    mapbox_style=\"carto-positron\", zoom=poland_zoom\n",
    ")\n",
    "\n",
    "results_potential_2nd_round_percent_fig.update_layout(margin=map_margin)\n",
    "\n",
    "results_potential_2nd_round_percent_fig.show()"
   ]
  },
  {
   "cell_type": "markdown",
   "metadata": {},
   "source": [
    "The received map is somewhat similar to the map of people who voted for Rafał Trzaskowski. It is thus more likely that he will get more new voters in the second round."
   ]
  }
 ],
 "metadata": {
  "kernelspec": {
   "display_name": "Python 3",
   "language": "python",
   "name": "python3"
  },
  "language_info": {
   "codemirror_mode": {
    "name": "ipython",
    "version": 3
   },
   "file_extension": ".py",
   "mimetype": "text/x-python",
   "name": "python",
   "nbconvert_exporter": "python",
   "pygments_lexer": "ipython3",
   "version": "3.8.2"
  }
 },
 "nbformat": 4,
 "nbformat_minor": 4
}
