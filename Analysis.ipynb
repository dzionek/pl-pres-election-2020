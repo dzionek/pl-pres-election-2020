{
 "cells": [
  {
   "cell_type": "markdown",
   "metadata": {},
   "source": [
    "# Analysis of the presidential election"
   ]
  },
  {
   "cell_type": "markdown",
   "metadata": {},
   "source": [
    "#### Author: Bartosz Dzionek ([Github](https://github.com/dzionek))"
   ]
  },
  {
   "cell_type": "markdown",
   "metadata": {},
   "source": [
    "We will use the following libraries through this analysis:"
   ]
  },
  {
   "cell_type": "code",
   "execution_count": 1,
   "metadata": {},
   "outputs": [],
   "source": [
    "import pandas as pd\n",
    "import geopandas as gpd\n",
    "import numpy as np\n",
    "import plotly.express as px"
   ]
  },
  {
   "cell_type": "markdown",
   "metadata": {},
   "source": [
    "## Introduction"
   ]
  },
  {
   "cell_type": "markdown",
   "metadata": {},
   "source": [
    "In this Data Science paper I analyze the results of the presidential elections in Poland in 2020. The results are taken from the website of the National Electoral Commission (Polish: *Państwowa Komisja Wyborcza*) – [link](https://wybory.gov.pl/prezydent20200628/en/dane_w_arkuszach)."
   ]
  },
  {
   "cell_type": "markdown",
   "metadata": {},
   "source": [
    "In this election the voters were eligible to vote for the following candidates:"
   ]
  },
  {
   "cell_type": "code",
   "execution_count": 2,
   "metadata": {},
   "outputs": [],
   "source": [
    "candidates_df = pd.read_csv('data/candidates/candidates.csv', sep=';')\n",
    "candidates_df.set_index('Pozycja na karcie', inplace=True)"
   ]
  },
  {
   "cell_type": "code",
   "execution_count": 3,
   "metadata": {},
   "outputs": [
    {
     "data": {
      "text/html": [
       "<div>\n",
       "<style scoped>\n",
       "    .dataframe tbody tr th:only-of-type {\n",
       "        vertical-align: middle;\n",
       "    }\n",
       "\n",
       "    .dataframe tbody tr th {\n",
       "        vertical-align: top;\n",
       "    }\n",
       "\n",
       "    .dataframe thead th {\n",
       "        text-align: right;\n",
       "    }\n",
       "</style>\n",
       "<table border=\"1\" class=\"dataframe\">\n",
       "  <thead>\n",
       "    <tr style=\"text-align: right;\">\n",
       "      <th></th>\n",
       "      <th>Nazwisko</th>\n",
       "      <th>Imiona</th>\n",
       "      <th>Płeć</th>\n",
       "      <th>Wiek</th>\n",
       "      <th>Wykształcenie</th>\n",
       "      <th>Zawód</th>\n",
       "      <th>Miejsce pracy</th>\n",
       "      <th>Miejsce zamieszkania</th>\n",
       "      <th>Przynależność do partii</th>\n",
       "      <th>Nazwa komitetu</th>\n",
       "      <th>Sygnatura</th>\n",
       "      <th>TERYT m. z.</th>\n",
       "      <th>Gmina m.z.</th>\n",
       "    </tr>\n",
       "    <tr>\n",
       "      <th>Pozycja na karcie</th>\n",
       "      <th></th>\n",
       "      <th></th>\n",
       "      <th></th>\n",
       "      <th></th>\n",
       "      <th></th>\n",
       "      <th></th>\n",
       "      <th></th>\n",
       "      <th></th>\n",
       "      <th></th>\n",
       "      <th></th>\n",
       "      <th></th>\n",
       "      <th></th>\n",
       "      <th></th>\n",
       "    </tr>\n",
       "  </thead>\n",
       "  <tbody>\n",
       "    <tr>\n",
       "      <th>1</th>\n",
       "      <td>BIEDROŃ</td>\n",
       "      <td>Robert</td>\n",
       "      <td>Mężczyzna</td>\n",
       "      <td>44</td>\n",
       "      <td>wyższe politologiczne</td>\n",
       "      <td>poseł do Parlamentu Europejskiego</td>\n",
       "      <td>NaN</td>\n",
       "      <td>Warszawa</td>\n",
       "      <td>członek partii politycznej: Wiosna Roberta Bie...</td>\n",
       "      <td>KOMITET WYBORCZY KANDYDATA NA PREZYDENTA RZECZ...</td>\n",
       "      <td>ZPOW-6020-6/20</td>\n",
       "      <td>146506</td>\n",
       "      <td>Ochota</td>\n",
       "    </tr>\n",
       "    <tr>\n",
       "      <th>2</th>\n",
       "      <td>BOSAK</td>\n",
       "      <td>Krzysztof</td>\n",
       "      <td>Mężczyzna</td>\n",
       "      <td>38</td>\n",
       "      <td>średnie</td>\n",
       "      <td>poseł na Sejm Rzeczypospolitej Polskiej</td>\n",
       "      <td>NaN</td>\n",
       "      <td>Warszawa</td>\n",
       "      <td>członek partii politycznej: Konfederacja Wolno...</td>\n",
       "      <td>KOMITET WYBORCZY KANDYDATA NA PREZYDENTA RZECZ...</td>\n",
       "      <td>ZPOW-6020-1/20</td>\n",
       "      <td>146518</td>\n",
       "      <td>Wola</td>\n",
       "    </tr>\n",
       "    <tr>\n",
       "      <th>3</th>\n",
       "      <td>DUDA</td>\n",
       "      <td>Andrzej Sebastian</td>\n",
       "      <td>Mężczyzna</td>\n",
       "      <td>48</td>\n",
       "      <td>wyższe prawnicze</td>\n",
       "      <td>Prezydent Rzeczypospolitej Polskiej</td>\n",
       "      <td>NaN</td>\n",
       "      <td>Kraków</td>\n",
       "      <td>nie należy do partii politycznej</td>\n",
       "      <td>KOMITET WYBORCZY KANDYDATA NA PREZYDENTA RZECZ...</td>\n",
       "      <td>ZPOW-6020-5/20</td>\n",
       "      <td>126101</td>\n",
       "      <td>m. Kraków</td>\n",
       "    </tr>\n",
       "    <tr>\n",
       "      <th>4</th>\n",
       "      <td>HOŁOWNIA</td>\n",
       "      <td>Szymon Franciszek</td>\n",
       "      <td>Mężczyzna</td>\n",
       "      <td>43</td>\n",
       "      <td>średnie</td>\n",
       "      <td>publicysta</td>\n",
       "      <td>własna działalność gospodarcza</td>\n",
       "      <td>Otwock</td>\n",
       "      <td>nie należy do partii politycznej</td>\n",
       "      <td>KOMITET WYBORCZY KANDYDATA NA PREZYDENTA RZECZ...</td>\n",
       "      <td>ZPOW-6020-4/20</td>\n",
       "      <td>141702</td>\n",
       "      <td>m. Otwock</td>\n",
       "    </tr>\n",
       "    <tr>\n",
       "      <th>5</th>\n",
       "      <td>JAKUBIAK</td>\n",
       "      <td>Marek</td>\n",
       "      <td>Mężczyzna</td>\n",
       "      <td>61</td>\n",
       "      <td>średnie</td>\n",
       "      <td>menadżer</td>\n",
       "      <td>Browary Regionalne Jakubiak Sp. z o.o.</td>\n",
       "      <td>Warszawa</td>\n",
       "      <td>członek partii politycznej: Federacja dla Rzec...</td>\n",
       "      <td>KOMITET WYBORCZY KANDYDATA NA PREZYDENTA RZECZ...</td>\n",
       "      <td>ZPOW-6020-28/20</td>\n",
       "      <td>146510</td>\n",
       "      <td>Śródmieście</td>\n",
       "    </tr>\n",
       "    <tr>\n",
       "      <th>6</th>\n",
       "      <td>KOSINIAK-KAMYSZ</td>\n",
       "      <td>Władysław Marcin</td>\n",
       "      <td>Mężczyzna</td>\n",
       "      <td>38</td>\n",
       "      <td>wyższe medyczne</td>\n",
       "      <td>poseł na Sejm Rzeczypospolitej Polskiej</td>\n",
       "      <td>NaN</td>\n",
       "      <td>Kraków</td>\n",
       "      <td>członek partii politycznej: Polskie Stronnictw...</td>\n",
       "      <td>KOMITET WYBORCZY KANDYDATA NA PREZYDENTA RZECZ...</td>\n",
       "      <td>ZPOW-6020-2/20</td>\n",
       "      <td>126101</td>\n",
       "      <td>m. Kraków</td>\n",
       "    </tr>\n",
       "    <tr>\n",
       "      <th>7</th>\n",
       "      <td>PIOTROWSKI</td>\n",
       "      <td>Mirosław Mariusz</td>\n",
       "      <td>Mężczyzna</td>\n",
       "      <td>54</td>\n",
       "      <td>wyższe historyczne</td>\n",
       "      <td>nauczyciel akademicki</td>\n",
       "      <td>Wyższa Szkoła Kultury Społecznej i Medialnej</td>\n",
       "      <td>Lublin</td>\n",
       "      <td>członek partii politycznej: Ruch Prawdziwa Eur...</td>\n",
       "      <td>KOMITET WYBORCZY KANDYDATA NA PREZYDENTA RZECZ...</td>\n",
       "      <td>ZPOW-6020-9/20</td>\n",
       "      <td>66301</td>\n",
       "      <td>m. Lublin</td>\n",
       "    </tr>\n",
       "    <tr>\n",
       "      <th>8</th>\n",
       "      <td>TANAJNO</td>\n",
       "      <td>Paweł Jan</td>\n",
       "      <td>Mężczyzna</td>\n",
       "      <td>44</td>\n",
       "      <td>wyższe w zakresie zarządzania</td>\n",
       "      <td>przedsiębiorca</td>\n",
       "      <td>IAM4U.pl Sp. z o.o.</td>\n",
       "      <td>Warszawa</td>\n",
       "      <td>nie należy do partii politycznej</td>\n",
       "      <td>KOMITET WYBORCZY KANDYDATA NA PREZYDENTA RZECZ...</td>\n",
       "      <td>ZPOW-6020-13/20</td>\n",
       "      <td>146518</td>\n",
       "      <td>Wola</td>\n",
       "    </tr>\n",
       "    <tr>\n",
       "      <th>9</th>\n",
       "      <td>TRZASKOWSKI</td>\n",
       "      <td>Rafał Kazimierz</td>\n",
       "      <td>Mężczyzna</td>\n",
       "      <td>48</td>\n",
       "      <td>wyższe politologiczne</td>\n",
       "      <td>pracownik samorządowy</td>\n",
       "      <td>Urząd m.st. Warszawy</td>\n",
       "      <td>Warszawa</td>\n",
       "      <td>członek partii politycznej: Platforma Obywatel...</td>\n",
       "      <td>KOMITET WYBORCZY KANDYDATA NA PREZYDENTA RZECZ...</td>\n",
       "      <td>ZPOW-6020-41/20</td>\n",
       "      <td>146510</td>\n",
       "      <td>Śródmieście</td>\n",
       "    </tr>\n",
       "    <tr>\n",
       "      <th>10</th>\n",
       "      <td>WITKOWSKI</td>\n",
       "      <td>Waldemar Włodzimierz</td>\n",
       "      <td>Mężczyzna</td>\n",
       "      <td>66</td>\n",
       "      <td>wyższe</td>\n",
       "      <td>zarządca</td>\n",
       "      <td>Spółdzielnia Mieszkaniowa im. Hipolita Cegiels...</td>\n",
       "      <td>Poznań</td>\n",
       "      <td>członek partii politycznej: Unia Pracy</td>\n",
       "      <td>KOMITET WYBORCZY KANDYDATA NA PREZYDENTA RZECZ...</td>\n",
       "      <td>ZPOW-6020-20/20</td>\n",
       "      <td>306401</td>\n",
       "      <td>m. Poznań</td>\n",
       "    </tr>\n",
       "    <tr>\n",
       "      <th>11</th>\n",
       "      <td>ŻÓŁTEK</td>\n",
       "      <td>Stanisław Józef</td>\n",
       "      <td>Mężczyzna</td>\n",
       "      <td>64</td>\n",
       "      <td>średnie</td>\n",
       "      <td>NaN</td>\n",
       "      <td>własna działalność</td>\n",
       "      <td>Kraków</td>\n",
       "      <td>członek partii politycznej: Kongres Nowej Prawicy</td>\n",
       "      <td>KOMITET WYBORCZY KANDYDATA NA PREZYDENTA RZECZ...</td>\n",
       "      <td>ZPOW-6020-10/20</td>\n",
       "      <td>126101</td>\n",
       "      <td>m. Kraków</td>\n",
       "    </tr>\n",
       "  </tbody>\n",
       "</table>\n",
       "</div>"
      ],
      "text/plain": [
       "                          Nazwisko                Imiona       Płeć  Wiek  \\\n",
       "Pozycja na karcie                                                           \n",
       "1                          BIEDROŃ                Robert  Mężczyzna    44   \n",
       "2                            BOSAK             Krzysztof  Mężczyzna    38   \n",
       "3                             DUDA     Andrzej Sebastian  Mężczyzna    48   \n",
       "4                         HOŁOWNIA     Szymon Franciszek  Mężczyzna    43   \n",
       "5                         JAKUBIAK                 Marek  Mężczyzna    61   \n",
       "6                  KOSINIAK-KAMYSZ      Władysław Marcin  Mężczyzna    38   \n",
       "7                       PIOTROWSKI      Mirosław Mariusz  Mężczyzna    54   \n",
       "8                          TANAJNO             Paweł Jan  Mężczyzna    44   \n",
       "9                      TRZASKOWSKI       Rafał Kazimierz  Mężczyzna    48   \n",
       "10                       WITKOWSKI  Waldemar Włodzimierz  Mężczyzna    66   \n",
       "11                          ŻÓŁTEK       Stanisław Józef  Mężczyzna    64   \n",
       "\n",
       "                                   Wykształcenie  \\\n",
       "Pozycja na karcie                                  \n",
       "1                          wyższe politologiczne   \n",
       "2                                        średnie   \n",
       "3                               wyższe prawnicze   \n",
       "4                                        średnie   \n",
       "5                                        średnie   \n",
       "6                                wyższe medyczne   \n",
       "7                             wyższe historyczne   \n",
       "8                  wyższe w zakresie zarządzania   \n",
       "9                          wyższe politologiczne   \n",
       "10                                        wyższe   \n",
       "11                                       średnie   \n",
       "\n",
       "                                                     Zawód  \\\n",
       "Pozycja na karcie                                            \n",
       "1                        poseł do Parlamentu Europejskiego   \n",
       "2                  poseł na Sejm Rzeczypospolitej Polskiej   \n",
       "3                      Prezydent Rzeczypospolitej Polskiej   \n",
       "4                                               publicysta   \n",
       "5                                                 menadżer   \n",
       "6                  poseł na Sejm Rzeczypospolitej Polskiej   \n",
       "7                                    nauczyciel akademicki   \n",
       "8                                           przedsiębiorca   \n",
       "9                                    pracownik samorządowy   \n",
       "10                                                zarządca   \n",
       "11                                                     NaN   \n",
       "\n",
       "                                                       Miejsce pracy  \\\n",
       "Pozycja na karcie                                                      \n",
       "1                                                                NaN   \n",
       "2                                                                NaN   \n",
       "3                                                                NaN   \n",
       "4                                     własna działalność gospodarcza   \n",
       "5                             Browary Regionalne Jakubiak Sp. z o.o.   \n",
       "6                                                                NaN   \n",
       "7                       Wyższa Szkoła Kultury Społecznej i Medialnej   \n",
       "8                                                IAM4U.pl Sp. z o.o.   \n",
       "9                                               Urząd m.st. Warszawy   \n",
       "10                 Spółdzielnia Mieszkaniowa im. Hipolita Cegiels...   \n",
       "11                                                własna działalność   \n",
       "\n",
       "                  Miejsce zamieszkania  \\\n",
       "Pozycja na karcie                        \n",
       "1                             Warszawa   \n",
       "2                             Warszawa   \n",
       "3                               Kraków   \n",
       "4                               Otwock   \n",
       "5                             Warszawa   \n",
       "6                               Kraków   \n",
       "7                               Lublin   \n",
       "8                             Warszawa   \n",
       "9                             Warszawa   \n",
       "10                              Poznań   \n",
       "11                              Kraków   \n",
       "\n",
       "                                             Przynależność do partii  \\\n",
       "Pozycja na karcie                                                      \n",
       "1                  członek partii politycznej: Wiosna Roberta Bie...   \n",
       "2                  członek partii politycznej: Konfederacja Wolno...   \n",
       "3                                   nie należy do partii politycznej   \n",
       "4                                   nie należy do partii politycznej   \n",
       "5                  członek partii politycznej: Federacja dla Rzec...   \n",
       "6                  członek partii politycznej: Polskie Stronnictw...   \n",
       "7                  członek partii politycznej: Ruch Prawdziwa Eur...   \n",
       "8                                   nie należy do partii politycznej   \n",
       "9                  członek partii politycznej: Platforma Obywatel...   \n",
       "10                            członek partii politycznej: Unia Pracy   \n",
       "11                 członek partii politycznej: Kongres Nowej Prawicy   \n",
       "\n",
       "                                                      Nazwa komitetu  \\\n",
       "Pozycja na karcie                                                      \n",
       "1                  KOMITET WYBORCZY KANDYDATA NA PREZYDENTA RZECZ...   \n",
       "2                  KOMITET WYBORCZY KANDYDATA NA PREZYDENTA RZECZ...   \n",
       "3                  KOMITET WYBORCZY KANDYDATA NA PREZYDENTA RZECZ...   \n",
       "4                  KOMITET WYBORCZY KANDYDATA NA PREZYDENTA RZECZ...   \n",
       "5                  KOMITET WYBORCZY KANDYDATA NA PREZYDENTA RZECZ...   \n",
       "6                  KOMITET WYBORCZY KANDYDATA NA PREZYDENTA RZECZ...   \n",
       "7                  KOMITET WYBORCZY KANDYDATA NA PREZYDENTA RZECZ...   \n",
       "8                  KOMITET WYBORCZY KANDYDATA NA PREZYDENTA RZECZ...   \n",
       "9                  KOMITET WYBORCZY KANDYDATA NA PREZYDENTA RZECZ...   \n",
       "10                 KOMITET WYBORCZY KANDYDATA NA PREZYDENTA RZECZ...   \n",
       "11                 KOMITET WYBORCZY KANDYDATA NA PREZYDENTA RZECZ...   \n",
       "\n",
       "                         Sygnatura  TERYT m. z.   Gmina m.z.  \n",
       "Pozycja na karcie                                             \n",
       "1                   ZPOW-6020-6/20       146506       Ochota  \n",
       "2                   ZPOW-6020-1/20       146518         Wola  \n",
       "3                   ZPOW-6020-5/20       126101    m. Kraków  \n",
       "4                   ZPOW-6020-4/20       141702    m. Otwock  \n",
       "5                  ZPOW-6020-28/20       146510  Śródmieście  \n",
       "6                   ZPOW-6020-2/20       126101    m. Kraków  \n",
       "7                   ZPOW-6020-9/20        66301    m. Lublin  \n",
       "8                  ZPOW-6020-13/20       146518         Wola  \n",
       "9                  ZPOW-6020-41/20       146510  Śródmieście  \n",
       "10                 ZPOW-6020-20/20       306401    m. Poznań  \n",
       "11                 ZPOW-6020-10/20       126101    m. Kraków  "
      ]
     },
     "execution_count": 3,
     "metadata": {},
     "output_type": "execute_result"
    }
   ],
   "source": [
    "candidates_df"
   ]
  },
  {
   "cell_type": "markdown",
   "metadata": {},
   "source": [
    "We generate a list of these candidates to filer their results later on."
   ]
  },
  {
   "cell_type": "code",
   "execution_count": 5,
   "metadata": {},
   "outputs": [],
   "source": [
    "candidates_first_name = candidates_df['Imiona'].tolist()\n",
    "candidates_last_name = candidates_df['Nazwisko'].tolist()\n",
    "\n",
    "candidates = np.array(\n",
    "    list(zip(candidates_first_name, candidates_last_name))\n",
    ")\n",
    "\n",
    "candidates = [candidate[0] + ' ' + candidate[1] for candidate in candidates]"
   ]
  },
  {
   "cell_type": "code",
   "execution_count": 6,
   "metadata": {},
   "outputs": [
    {
     "data": {
      "text/plain": [
       "['Robert BIEDROŃ',\n",
       " 'Krzysztof BOSAK',\n",
       " 'Andrzej Sebastian DUDA',\n",
       " 'Szymon Franciszek HOŁOWNIA',\n",
       " 'Marek JAKUBIAK',\n",
       " 'Władysław Marcin KOSINIAK-KAMYSZ',\n",
       " 'Mirosław Mariusz PIOTROWSKI',\n",
       " 'Paweł Jan TANAJNO',\n",
       " 'Rafał Kazimierz TRZASKOWSKI',\n",
       " 'Waldemar Włodzimierz WITKOWSKI',\n",
       " 'Stanisław Józef ŻÓŁTEK']"
      ]
     },
     "execution_count": 6,
     "metadata": {},
     "output_type": "execute_result"
    }
   ],
   "source": [
    "candidates"
   ]
  },
  {
   "cell_type": "markdown",
   "metadata": {},
   "source": [
    "## Results"
   ]
  },
  {
   "cell_type": "markdown",
   "metadata": {},
   "source": [
    "### Total results"
   ]
  },
  {
   "cell_type": "markdown",
   "metadata": {},
   "source": [
    "Firstly, we find how many voters have voted for each candidate."
   ]
  },
  {
   "cell_type": "code",
   "execution_count": 45,
   "metadata": {},
   "outputs": [],
   "source": [
    "results_counties_df = pd.read_csv('data/results/results_by_county.csv', sep=';')\n",
    "\n",
    "results_df = (\n",
    "    results_counties_df[candidates].sum().to_frame('Result')\n",
    "                                   .sort_values('Result', ascending=False)\n",
    "                                   .reset_index()\n",
    ")\n",
    "\n",
    "results_df.columns = ['Candidate', 'Result']"
   ]
  },
  {
   "cell_type": "code",
   "execution_count": 46,
   "metadata": {},
   "outputs": [
    {
     "data": {
      "text/html": [
       "<div>\n",
       "<style scoped>\n",
       "    .dataframe tbody tr th:only-of-type {\n",
       "        vertical-align: middle;\n",
       "    }\n",
       "\n",
       "    .dataframe tbody tr th {\n",
       "        vertical-align: top;\n",
       "    }\n",
       "\n",
       "    .dataframe thead th {\n",
       "        text-align: right;\n",
       "    }\n",
       "</style>\n",
       "<table border=\"1\" class=\"dataframe\">\n",
       "  <thead>\n",
       "    <tr style=\"text-align: right;\">\n",
       "      <th></th>\n",
       "      <th>Candidate</th>\n",
       "      <th>Result</th>\n",
       "    </tr>\n",
       "  </thead>\n",
       "  <tbody>\n",
       "    <tr>\n",
       "      <th>0</th>\n",
       "      <td>Andrzej Sebastian DUDA</td>\n",
       "      <td>8412183</td>\n",
       "    </tr>\n",
       "    <tr>\n",
       "      <th>1</th>\n",
       "      <td>Rafał Kazimierz TRZASKOWSKI</td>\n",
       "      <td>5845164</td>\n",
       "    </tr>\n",
       "    <tr>\n",
       "      <th>2</th>\n",
       "      <td>Szymon Franciszek HOŁOWNIA</td>\n",
       "      <td>2667655</td>\n",
       "    </tr>\n",
       "    <tr>\n",
       "      <th>3</th>\n",
       "      <td>Krzysztof BOSAK</td>\n",
       "      <td>1300923</td>\n",
       "    </tr>\n",
       "    <tr>\n",
       "      <th>4</th>\n",
       "      <td>Władysław Marcin KOSINIAK-KAMYSZ</td>\n",
       "      <td>457092</td>\n",
       "    </tr>\n",
       "    <tr>\n",
       "      <th>5</th>\n",
       "      <td>Robert BIEDROŃ</td>\n",
       "      <td>425734</td>\n",
       "    </tr>\n",
       "    <tr>\n",
       "      <th>6</th>\n",
       "      <td>Stanisław Józef ŻÓŁTEK</td>\n",
       "      <td>45092</td>\n",
       "    </tr>\n",
       "    <tr>\n",
       "      <th>7</th>\n",
       "      <td>Marek JAKUBIAK</td>\n",
       "      <td>33294</td>\n",
       "    </tr>\n",
       "    <tr>\n",
       "      <th>8</th>\n",
       "      <td>Paweł Jan TANAJNO</td>\n",
       "      <td>27610</td>\n",
       "    </tr>\n",
       "    <tr>\n",
       "      <th>9</th>\n",
       "      <td>Waldemar Włodzimierz WITKOWSKI</td>\n",
       "      <td>26877</td>\n",
       "    </tr>\n",
       "    <tr>\n",
       "      <th>10</th>\n",
       "      <td>Mirosław Mariusz PIOTROWSKI</td>\n",
       "      <td>20944</td>\n",
       "    </tr>\n",
       "  </tbody>\n",
       "</table>\n",
       "</div>"
      ],
      "text/plain": [
       "                           Candidate   Result\n",
       "0             Andrzej Sebastian DUDA  8412183\n",
       "1        Rafał Kazimierz TRZASKOWSKI  5845164\n",
       "2         Szymon Franciszek HOŁOWNIA  2667655\n",
       "3                    Krzysztof BOSAK  1300923\n",
       "4   Władysław Marcin KOSINIAK-KAMYSZ   457092\n",
       "5                     Robert BIEDROŃ   425734\n",
       "6             Stanisław Józef ŻÓŁTEK    45092\n",
       "7                     Marek JAKUBIAK    33294\n",
       "8                  Paweł Jan TANAJNO    27610\n",
       "9     Waldemar Włodzimierz WITKOWSKI    26877\n",
       "10       Mirosław Mariusz PIOTROWSKI    20944"
      ]
     },
     "execution_count": 46,
     "metadata": {},
     "output_type": "execute_result"
    }
   ],
   "source": [
    "results_df"
   ]
  },
  {
   "cell_type": "code",
   "execution_count": 53,
   "metadata": {},
   "outputs": [
    {
     "data": {
      "application/vnd.plotly.v1+json": {
       "config": {
        "plotlyServerURL": "https://plot.ly"
       },
       "data": [
        {
         "alignmentgroup": "True",
         "hovertemplate": "Candidate=%{x}<br>Result=%{y}<extra></extra>",
         "legendgroup": "",
         "marker": {
          "color": "#636efa"
         },
         "name": "",
         "offsetgroup": "",
         "orientation": "v",
         "showlegend": false,
         "textposition": "auto",
         "type": "bar",
         "x": [
          "Andrzej Sebastian DUDA",
          "Rafał Kazimierz TRZASKOWSKI",
          "Szymon Franciszek HOŁOWNIA",
          "Krzysztof BOSAK",
          "Władysław Marcin KOSINIAK-KAMYSZ",
          "Robert BIEDROŃ",
          "Stanisław Józef ŻÓŁTEK",
          "Marek JAKUBIAK",
          "Paweł Jan TANAJNO",
          "Waldemar Włodzimierz WITKOWSKI",
          "Mirosław Mariusz PIOTROWSKI"
         ],
         "xaxis": "x",
         "y": [
          8412183,
          5845164,
          2667655,
          1300923,
          457092,
          425734,
          45092,
          33294,
          27610,
          26877,
          20944
         ],
         "yaxis": "y"
        }
       ],
       "layout": {
        "barmode": "relative",
        "legend": {
         "tracegroupgap": 0
        },
        "template": {
         "data": {
          "bar": [
           {
            "error_x": {
             "color": "#2a3f5f"
            },
            "error_y": {
             "color": "#2a3f5f"
            },
            "marker": {
             "line": {
              "color": "#E5ECF6",
              "width": 0.5
             }
            },
            "type": "bar"
           }
          ],
          "barpolar": [
           {
            "marker": {
             "line": {
              "color": "#E5ECF6",
              "width": 0.5
             }
            },
            "type": "barpolar"
           }
          ],
          "carpet": [
           {
            "aaxis": {
             "endlinecolor": "#2a3f5f",
             "gridcolor": "white",
             "linecolor": "white",
             "minorgridcolor": "white",
             "startlinecolor": "#2a3f5f"
            },
            "baxis": {
             "endlinecolor": "#2a3f5f",
             "gridcolor": "white",
             "linecolor": "white",
             "minorgridcolor": "white",
             "startlinecolor": "#2a3f5f"
            },
            "type": "carpet"
           }
          ],
          "choropleth": [
           {
            "colorbar": {
             "outlinewidth": 0,
             "ticks": ""
            },
            "type": "choropleth"
           }
          ],
          "contour": [
           {
            "colorbar": {
             "outlinewidth": 0,
             "ticks": ""
            },
            "colorscale": [
             [
              0,
              "#0d0887"
             ],
             [
              0.1111111111111111,
              "#46039f"
             ],
             [
              0.2222222222222222,
              "#7201a8"
             ],
             [
              0.3333333333333333,
              "#9c179e"
             ],
             [
              0.4444444444444444,
              "#bd3786"
             ],
             [
              0.5555555555555556,
              "#d8576b"
             ],
             [
              0.6666666666666666,
              "#ed7953"
             ],
             [
              0.7777777777777778,
              "#fb9f3a"
             ],
             [
              0.8888888888888888,
              "#fdca26"
             ],
             [
              1,
              "#f0f921"
             ]
            ],
            "type": "contour"
           }
          ],
          "contourcarpet": [
           {
            "colorbar": {
             "outlinewidth": 0,
             "ticks": ""
            },
            "type": "contourcarpet"
           }
          ],
          "heatmap": [
           {
            "colorbar": {
             "outlinewidth": 0,
             "ticks": ""
            },
            "colorscale": [
             [
              0,
              "#0d0887"
             ],
             [
              0.1111111111111111,
              "#46039f"
             ],
             [
              0.2222222222222222,
              "#7201a8"
             ],
             [
              0.3333333333333333,
              "#9c179e"
             ],
             [
              0.4444444444444444,
              "#bd3786"
             ],
             [
              0.5555555555555556,
              "#d8576b"
             ],
             [
              0.6666666666666666,
              "#ed7953"
             ],
             [
              0.7777777777777778,
              "#fb9f3a"
             ],
             [
              0.8888888888888888,
              "#fdca26"
             ],
             [
              1,
              "#f0f921"
             ]
            ],
            "type": "heatmap"
           }
          ],
          "heatmapgl": [
           {
            "colorbar": {
             "outlinewidth": 0,
             "ticks": ""
            },
            "colorscale": [
             [
              0,
              "#0d0887"
             ],
             [
              0.1111111111111111,
              "#46039f"
             ],
             [
              0.2222222222222222,
              "#7201a8"
             ],
             [
              0.3333333333333333,
              "#9c179e"
             ],
             [
              0.4444444444444444,
              "#bd3786"
             ],
             [
              0.5555555555555556,
              "#d8576b"
             ],
             [
              0.6666666666666666,
              "#ed7953"
             ],
             [
              0.7777777777777778,
              "#fb9f3a"
             ],
             [
              0.8888888888888888,
              "#fdca26"
             ],
             [
              1,
              "#f0f921"
             ]
            ],
            "type": "heatmapgl"
           }
          ],
          "histogram": [
           {
            "marker": {
             "colorbar": {
              "outlinewidth": 0,
              "ticks": ""
             }
            },
            "type": "histogram"
           }
          ],
          "histogram2d": [
           {
            "colorbar": {
             "outlinewidth": 0,
             "ticks": ""
            },
            "colorscale": [
             [
              0,
              "#0d0887"
             ],
             [
              0.1111111111111111,
              "#46039f"
             ],
             [
              0.2222222222222222,
              "#7201a8"
             ],
             [
              0.3333333333333333,
              "#9c179e"
             ],
             [
              0.4444444444444444,
              "#bd3786"
             ],
             [
              0.5555555555555556,
              "#d8576b"
             ],
             [
              0.6666666666666666,
              "#ed7953"
             ],
             [
              0.7777777777777778,
              "#fb9f3a"
             ],
             [
              0.8888888888888888,
              "#fdca26"
             ],
             [
              1,
              "#f0f921"
             ]
            ],
            "type": "histogram2d"
           }
          ],
          "histogram2dcontour": [
           {
            "colorbar": {
             "outlinewidth": 0,
             "ticks": ""
            },
            "colorscale": [
             [
              0,
              "#0d0887"
             ],
             [
              0.1111111111111111,
              "#46039f"
             ],
             [
              0.2222222222222222,
              "#7201a8"
             ],
             [
              0.3333333333333333,
              "#9c179e"
             ],
             [
              0.4444444444444444,
              "#bd3786"
             ],
             [
              0.5555555555555556,
              "#d8576b"
             ],
             [
              0.6666666666666666,
              "#ed7953"
             ],
             [
              0.7777777777777778,
              "#fb9f3a"
             ],
             [
              0.8888888888888888,
              "#fdca26"
             ],
             [
              1,
              "#f0f921"
             ]
            ],
            "type": "histogram2dcontour"
           }
          ],
          "mesh3d": [
           {
            "colorbar": {
             "outlinewidth": 0,
             "ticks": ""
            },
            "type": "mesh3d"
           }
          ],
          "parcoords": [
           {
            "line": {
             "colorbar": {
              "outlinewidth": 0,
              "ticks": ""
             }
            },
            "type": "parcoords"
           }
          ],
          "pie": [
           {
            "automargin": true,
            "type": "pie"
           }
          ],
          "scatter": [
           {
            "marker": {
             "colorbar": {
              "outlinewidth": 0,
              "ticks": ""
             }
            },
            "type": "scatter"
           }
          ],
          "scatter3d": [
           {
            "line": {
             "colorbar": {
              "outlinewidth": 0,
              "ticks": ""
             }
            },
            "marker": {
             "colorbar": {
              "outlinewidth": 0,
              "ticks": ""
             }
            },
            "type": "scatter3d"
           }
          ],
          "scattercarpet": [
           {
            "marker": {
             "colorbar": {
              "outlinewidth": 0,
              "ticks": ""
             }
            },
            "type": "scattercarpet"
           }
          ],
          "scattergeo": [
           {
            "marker": {
             "colorbar": {
              "outlinewidth": 0,
              "ticks": ""
             }
            },
            "type": "scattergeo"
           }
          ],
          "scattergl": [
           {
            "marker": {
             "colorbar": {
              "outlinewidth": 0,
              "ticks": ""
             }
            },
            "type": "scattergl"
           }
          ],
          "scattermapbox": [
           {
            "marker": {
             "colorbar": {
              "outlinewidth": 0,
              "ticks": ""
             }
            },
            "type": "scattermapbox"
           }
          ],
          "scatterpolar": [
           {
            "marker": {
             "colorbar": {
              "outlinewidth": 0,
              "ticks": ""
             }
            },
            "type": "scatterpolar"
           }
          ],
          "scatterpolargl": [
           {
            "marker": {
             "colorbar": {
              "outlinewidth": 0,
              "ticks": ""
             }
            },
            "type": "scatterpolargl"
           }
          ],
          "scatterternary": [
           {
            "marker": {
             "colorbar": {
              "outlinewidth": 0,
              "ticks": ""
             }
            },
            "type": "scatterternary"
           }
          ],
          "surface": [
           {
            "colorbar": {
             "outlinewidth": 0,
             "ticks": ""
            },
            "colorscale": [
             [
              0,
              "#0d0887"
             ],
             [
              0.1111111111111111,
              "#46039f"
             ],
             [
              0.2222222222222222,
              "#7201a8"
             ],
             [
              0.3333333333333333,
              "#9c179e"
             ],
             [
              0.4444444444444444,
              "#bd3786"
             ],
             [
              0.5555555555555556,
              "#d8576b"
             ],
             [
              0.6666666666666666,
              "#ed7953"
             ],
             [
              0.7777777777777778,
              "#fb9f3a"
             ],
             [
              0.8888888888888888,
              "#fdca26"
             ],
             [
              1,
              "#f0f921"
             ]
            ],
            "type": "surface"
           }
          ],
          "table": [
           {
            "cells": {
             "fill": {
              "color": "#EBF0F8"
             },
             "line": {
              "color": "white"
             }
            },
            "header": {
             "fill": {
              "color": "#C8D4E3"
             },
             "line": {
              "color": "white"
             }
            },
            "type": "table"
           }
          ]
         },
         "layout": {
          "annotationdefaults": {
           "arrowcolor": "#2a3f5f",
           "arrowhead": 0,
           "arrowwidth": 1
          },
          "coloraxis": {
           "colorbar": {
            "outlinewidth": 0,
            "ticks": ""
           }
          },
          "colorscale": {
           "diverging": [
            [
             0,
             "#8e0152"
            ],
            [
             0.1,
             "#c51b7d"
            ],
            [
             0.2,
             "#de77ae"
            ],
            [
             0.3,
             "#f1b6da"
            ],
            [
             0.4,
             "#fde0ef"
            ],
            [
             0.5,
             "#f7f7f7"
            ],
            [
             0.6,
             "#e6f5d0"
            ],
            [
             0.7,
             "#b8e186"
            ],
            [
             0.8,
             "#7fbc41"
            ],
            [
             0.9,
             "#4d9221"
            ],
            [
             1,
             "#276419"
            ]
           ],
           "sequential": [
            [
             0,
             "#0d0887"
            ],
            [
             0.1111111111111111,
             "#46039f"
            ],
            [
             0.2222222222222222,
             "#7201a8"
            ],
            [
             0.3333333333333333,
             "#9c179e"
            ],
            [
             0.4444444444444444,
             "#bd3786"
            ],
            [
             0.5555555555555556,
             "#d8576b"
            ],
            [
             0.6666666666666666,
             "#ed7953"
            ],
            [
             0.7777777777777778,
             "#fb9f3a"
            ],
            [
             0.8888888888888888,
             "#fdca26"
            ],
            [
             1,
             "#f0f921"
            ]
           ],
           "sequentialminus": [
            [
             0,
             "#0d0887"
            ],
            [
             0.1111111111111111,
             "#46039f"
            ],
            [
             0.2222222222222222,
             "#7201a8"
            ],
            [
             0.3333333333333333,
             "#9c179e"
            ],
            [
             0.4444444444444444,
             "#bd3786"
            ],
            [
             0.5555555555555556,
             "#d8576b"
            ],
            [
             0.6666666666666666,
             "#ed7953"
            ],
            [
             0.7777777777777778,
             "#fb9f3a"
            ],
            [
             0.8888888888888888,
             "#fdca26"
            ],
            [
             1,
             "#f0f921"
            ]
           ]
          },
          "colorway": [
           "#636efa",
           "#EF553B",
           "#00cc96",
           "#ab63fa",
           "#FFA15A",
           "#19d3f3",
           "#FF6692",
           "#B6E880",
           "#FF97FF",
           "#FECB52"
          ],
          "font": {
           "color": "#2a3f5f"
          },
          "geo": {
           "bgcolor": "white",
           "lakecolor": "white",
           "landcolor": "#E5ECF6",
           "showlakes": true,
           "showland": true,
           "subunitcolor": "white"
          },
          "hoverlabel": {
           "align": "left"
          },
          "hovermode": "closest",
          "mapbox": {
           "style": "light"
          },
          "paper_bgcolor": "white",
          "plot_bgcolor": "#E5ECF6",
          "polar": {
           "angularaxis": {
            "gridcolor": "white",
            "linecolor": "white",
            "ticks": ""
           },
           "bgcolor": "#E5ECF6",
           "radialaxis": {
            "gridcolor": "white",
            "linecolor": "white",
            "ticks": ""
           }
          },
          "scene": {
           "xaxis": {
            "backgroundcolor": "#E5ECF6",
            "gridcolor": "white",
            "gridwidth": 2,
            "linecolor": "white",
            "showbackground": true,
            "ticks": "",
            "zerolinecolor": "white"
           },
           "yaxis": {
            "backgroundcolor": "#E5ECF6",
            "gridcolor": "white",
            "gridwidth": 2,
            "linecolor": "white",
            "showbackground": true,
            "ticks": "",
            "zerolinecolor": "white"
           },
           "zaxis": {
            "backgroundcolor": "#E5ECF6",
            "gridcolor": "white",
            "gridwidth": 2,
            "linecolor": "white",
            "showbackground": true,
            "ticks": "",
            "zerolinecolor": "white"
           }
          },
          "shapedefaults": {
           "line": {
            "color": "#2a3f5f"
           }
          },
          "ternary": {
           "aaxis": {
            "gridcolor": "white",
            "linecolor": "white",
            "ticks": ""
           },
           "baxis": {
            "gridcolor": "white",
            "linecolor": "white",
            "ticks": ""
           },
           "bgcolor": "#E5ECF6",
           "caxis": {
            "gridcolor": "white",
            "linecolor": "white",
            "ticks": ""
           }
          },
          "title": {
           "x": 0.05
          },
          "xaxis": {
           "automargin": true,
           "gridcolor": "white",
           "linecolor": "white",
           "ticks": "",
           "title": {
            "standoff": 15
           },
           "zerolinecolor": "white",
           "zerolinewidth": 2
          },
          "yaxis": {
           "automargin": true,
           "gridcolor": "white",
           "linecolor": "white",
           "ticks": "",
           "title": {
            "standoff": 15
           },
           "zerolinecolor": "white",
           "zerolinewidth": 2
          }
         }
        },
        "title": {
         "text": "Total number of votes"
        },
        "xaxis": {
         "anchor": "y",
         "domain": [
          0,
          1
         ],
         "title": {
          "text": "Candidate"
         }
        },
        "yaxis": {
         "anchor": "x",
         "domain": [
          0,
          1
         ],
         "title": {
          "text": "Result"
         }
        }
       }
      },
      "text/html": [
       "<div>\n",
       "        \n",
       "        \n",
       "            <div id=\"0178c387-6367-44c4-92a3-b163af2848e4\" class=\"plotly-graph-div\" style=\"height:525px; width:100%;\"></div>\n",
       "            <script type=\"text/javascript\">\n",
       "                require([\"plotly\"], function(Plotly) {\n",
       "                    window.PLOTLYENV=window.PLOTLYENV || {};\n",
       "                    \n",
       "                if (document.getElementById(\"0178c387-6367-44c4-92a3-b163af2848e4\")) {\n",
       "                    Plotly.newPlot(\n",
       "                        '0178c387-6367-44c4-92a3-b163af2848e4',\n",
       "                        [{\"alignmentgroup\": \"True\", \"hovertemplate\": \"Candidate=%{x}<br>Result=%{y}<extra></extra>\", \"legendgroup\": \"\", \"marker\": {\"color\": \"#636efa\"}, \"name\": \"\", \"offsetgroup\": \"\", \"orientation\": \"v\", \"showlegend\": false, \"textposition\": \"auto\", \"type\": \"bar\", \"x\": [\"Andrzej Sebastian DUDA\", \"Rafa\\u0142 Kazimierz TRZASKOWSKI\", \"Szymon Franciszek HO\\u0141OWNIA\", \"Krzysztof BOSAK\", \"W\\u0142adys\\u0142aw Marcin KOSINIAK-KAMYSZ\", \"Robert BIEDRO\\u0143\", \"Stanis\\u0142aw J\\u00f3zef \\u017b\\u00d3\\u0141TEK\", \"Marek JAKUBIAK\", \"Pawe\\u0142 Jan TANAJNO\", \"Waldemar W\\u0142odzimierz WITKOWSKI\", \"Miros\\u0142aw Mariusz PIOTROWSKI\"], \"xaxis\": \"x\", \"y\": [8412183, 5845164, 2667655, 1300923, 457092, 425734, 45092, 33294, 27610, 26877, 20944], \"yaxis\": \"y\"}],\n",
       "                        {\"barmode\": \"relative\", \"legend\": {\"tracegroupgap\": 0}, \"template\": {\"data\": {\"bar\": [{\"error_x\": {\"color\": \"#2a3f5f\"}, \"error_y\": {\"color\": \"#2a3f5f\"}, \"marker\": {\"line\": {\"color\": \"#E5ECF6\", \"width\": 0.5}}, \"type\": \"bar\"}], \"barpolar\": [{\"marker\": {\"line\": {\"color\": \"#E5ECF6\", \"width\": 0.5}}, \"type\": \"barpolar\"}], \"carpet\": [{\"aaxis\": {\"endlinecolor\": \"#2a3f5f\", \"gridcolor\": \"white\", \"linecolor\": \"white\", \"minorgridcolor\": \"white\", \"startlinecolor\": \"#2a3f5f\"}, \"baxis\": {\"endlinecolor\": \"#2a3f5f\", \"gridcolor\": \"white\", \"linecolor\": \"white\", \"minorgridcolor\": \"white\", \"startlinecolor\": \"#2a3f5f\"}, \"type\": \"carpet\"}], \"choropleth\": [{\"colorbar\": {\"outlinewidth\": 0, \"ticks\": \"\"}, \"type\": \"choropleth\"}], \"contour\": [{\"colorbar\": {\"outlinewidth\": 0, \"ticks\": \"\"}, \"colorscale\": [[0.0, \"#0d0887\"], [0.1111111111111111, \"#46039f\"], [0.2222222222222222, \"#7201a8\"], [0.3333333333333333, \"#9c179e\"], [0.4444444444444444, \"#bd3786\"], [0.5555555555555556, \"#d8576b\"], [0.6666666666666666, \"#ed7953\"], [0.7777777777777778, \"#fb9f3a\"], [0.8888888888888888, \"#fdca26\"], [1.0, \"#f0f921\"]], \"type\": \"contour\"}], \"contourcarpet\": [{\"colorbar\": {\"outlinewidth\": 0, \"ticks\": \"\"}, \"type\": \"contourcarpet\"}], \"heatmap\": [{\"colorbar\": {\"outlinewidth\": 0, \"ticks\": \"\"}, \"colorscale\": [[0.0, \"#0d0887\"], [0.1111111111111111, \"#46039f\"], [0.2222222222222222, \"#7201a8\"], [0.3333333333333333, \"#9c179e\"], [0.4444444444444444, \"#bd3786\"], [0.5555555555555556, \"#d8576b\"], [0.6666666666666666, \"#ed7953\"], [0.7777777777777778, \"#fb9f3a\"], [0.8888888888888888, \"#fdca26\"], [1.0, \"#f0f921\"]], \"type\": \"heatmap\"}], \"heatmapgl\": [{\"colorbar\": {\"outlinewidth\": 0, \"ticks\": \"\"}, \"colorscale\": [[0.0, \"#0d0887\"], [0.1111111111111111, \"#46039f\"], [0.2222222222222222, \"#7201a8\"], [0.3333333333333333, \"#9c179e\"], [0.4444444444444444, \"#bd3786\"], [0.5555555555555556, \"#d8576b\"], [0.6666666666666666, \"#ed7953\"], [0.7777777777777778, \"#fb9f3a\"], [0.8888888888888888, \"#fdca26\"], [1.0, \"#f0f921\"]], \"type\": \"heatmapgl\"}], \"histogram\": [{\"marker\": {\"colorbar\": {\"outlinewidth\": 0, \"ticks\": \"\"}}, \"type\": \"histogram\"}], \"histogram2d\": [{\"colorbar\": {\"outlinewidth\": 0, \"ticks\": \"\"}, \"colorscale\": [[0.0, \"#0d0887\"], [0.1111111111111111, \"#46039f\"], [0.2222222222222222, \"#7201a8\"], [0.3333333333333333, \"#9c179e\"], [0.4444444444444444, \"#bd3786\"], [0.5555555555555556, \"#d8576b\"], [0.6666666666666666, \"#ed7953\"], [0.7777777777777778, \"#fb9f3a\"], [0.8888888888888888, \"#fdca26\"], [1.0, \"#f0f921\"]], \"type\": \"histogram2d\"}], \"histogram2dcontour\": [{\"colorbar\": {\"outlinewidth\": 0, \"ticks\": \"\"}, \"colorscale\": [[0.0, \"#0d0887\"], [0.1111111111111111, \"#46039f\"], [0.2222222222222222, \"#7201a8\"], [0.3333333333333333, \"#9c179e\"], [0.4444444444444444, \"#bd3786\"], [0.5555555555555556, \"#d8576b\"], [0.6666666666666666, \"#ed7953\"], [0.7777777777777778, \"#fb9f3a\"], [0.8888888888888888, \"#fdca26\"], [1.0, \"#f0f921\"]], \"type\": \"histogram2dcontour\"}], \"mesh3d\": [{\"colorbar\": {\"outlinewidth\": 0, \"ticks\": \"\"}, \"type\": \"mesh3d\"}], \"parcoords\": [{\"line\": {\"colorbar\": {\"outlinewidth\": 0, \"ticks\": \"\"}}, \"type\": \"parcoords\"}], \"pie\": [{\"automargin\": true, \"type\": \"pie\"}], \"scatter\": [{\"marker\": {\"colorbar\": {\"outlinewidth\": 0, \"ticks\": \"\"}}, \"type\": \"scatter\"}], \"scatter3d\": [{\"line\": {\"colorbar\": {\"outlinewidth\": 0, \"ticks\": \"\"}}, \"marker\": {\"colorbar\": {\"outlinewidth\": 0, \"ticks\": \"\"}}, \"type\": \"scatter3d\"}], \"scattercarpet\": [{\"marker\": {\"colorbar\": {\"outlinewidth\": 0, \"ticks\": \"\"}}, \"type\": \"scattercarpet\"}], \"scattergeo\": [{\"marker\": {\"colorbar\": {\"outlinewidth\": 0, \"ticks\": \"\"}}, \"type\": \"scattergeo\"}], \"scattergl\": [{\"marker\": {\"colorbar\": {\"outlinewidth\": 0, \"ticks\": \"\"}}, \"type\": \"scattergl\"}], \"scattermapbox\": [{\"marker\": {\"colorbar\": {\"outlinewidth\": 0, \"ticks\": \"\"}}, \"type\": \"scattermapbox\"}], \"scatterpolar\": [{\"marker\": {\"colorbar\": {\"outlinewidth\": 0, \"ticks\": \"\"}}, \"type\": \"scatterpolar\"}], \"scatterpolargl\": [{\"marker\": {\"colorbar\": {\"outlinewidth\": 0, \"ticks\": \"\"}}, \"type\": \"scatterpolargl\"}], \"scatterternary\": [{\"marker\": {\"colorbar\": {\"outlinewidth\": 0, \"ticks\": \"\"}}, \"type\": \"scatterternary\"}], \"surface\": [{\"colorbar\": {\"outlinewidth\": 0, \"ticks\": \"\"}, \"colorscale\": [[0.0, \"#0d0887\"], [0.1111111111111111, \"#46039f\"], [0.2222222222222222, \"#7201a8\"], [0.3333333333333333, \"#9c179e\"], [0.4444444444444444, \"#bd3786\"], [0.5555555555555556, \"#d8576b\"], [0.6666666666666666, \"#ed7953\"], [0.7777777777777778, \"#fb9f3a\"], [0.8888888888888888, \"#fdca26\"], [1.0, \"#f0f921\"]], \"type\": \"surface\"}], \"table\": [{\"cells\": {\"fill\": {\"color\": \"#EBF0F8\"}, \"line\": {\"color\": \"white\"}}, \"header\": {\"fill\": {\"color\": \"#C8D4E3\"}, \"line\": {\"color\": \"white\"}}, \"type\": \"table\"}]}, \"layout\": {\"annotationdefaults\": {\"arrowcolor\": \"#2a3f5f\", \"arrowhead\": 0, \"arrowwidth\": 1}, \"coloraxis\": {\"colorbar\": {\"outlinewidth\": 0, \"ticks\": \"\"}}, \"colorscale\": {\"diverging\": [[0, \"#8e0152\"], [0.1, \"#c51b7d\"], [0.2, \"#de77ae\"], [0.3, \"#f1b6da\"], [0.4, \"#fde0ef\"], [0.5, \"#f7f7f7\"], [0.6, \"#e6f5d0\"], [0.7, \"#b8e186\"], [0.8, \"#7fbc41\"], [0.9, \"#4d9221\"], [1, \"#276419\"]], \"sequential\": [[0.0, \"#0d0887\"], [0.1111111111111111, \"#46039f\"], [0.2222222222222222, \"#7201a8\"], [0.3333333333333333, \"#9c179e\"], [0.4444444444444444, \"#bd3786\"], [0.5555555555555556, \"#d8576b\"], [0.6666666666666666, \"#ed7953\"], [0.7777777777777778, \"#fb9f3a\"], [0.8888888888888888, \"#fdca26\"], [1.0, \"#f0f921\"]], \"sequentialminus\": [[0.0, \"#0d0887\"], [0.1111111111111111, \"#46039f\"], [0.2222222222222222, \"#7201a8\"], [0.3333333333333333, \"#9c179e\"], [0.4444444444444444, \"#bd3786\"], [0.5555555555555556, \"#d8576b\"], [0.6666666666666666, \"#ed7953\"], [0.7777777777777778, \"#fb9f3a\"], [0.8888888888888888, \"#fdca26\"], [1.0, \"#f0f921\"]]}, \"colorway\": [\"#636efa\", \"#EF553B\", \"#00cc96\", \"#ab63fa\", \"#FFA15A\", \"#19d3f3\", \"#FF6692\", \"#B6E880\", \"#FF97FF\", \"#FECB52\"], \"font\": {\"color\": \"#2a3f5f\"}, \"geo\": {\"bgcolor\": \"white\", \"lakecolor\": \"white\", \"landcolor\": \"#E5ECF6\", \"showlakes\": true, \"showland\": true, \"subunitcolor\": \"white\"}, \"hoverlabel\": {\"align\": \"left\"}, \"hovermode\": \"closest\", \"mapbox\": {\"style\": \"light\"}, \"paper_bgcolor\": \"white\", \"plot_bgcolor\": \"#E5ECF6\", \"polar\": {\"angularaxis\": {\"gridcolor\": \"white\", \"linecolor\": \"white\", \"ticks\": \"\"}, \"bgcolor\": \"#E5ECF6\", \"radialaxis\": {\"gridcolor\": \"white\", \"linecolor\": \"white\", \"ticks\": \"\"}}, \"scene\": {\"xaxis\": {\"backgroundcolor\": \"#E5ECF6\", \"gridcolor\": \"white\", \"gridwidth\": 2, \"linecolor\": \"white\", \"showbackground\": true, \"ticks\": \"\", \"zerolinecolor\": \"white\"}, \"yaxis\": {\"backgroundcolor\": \"#E5ECF6\", \"gridcolor\": \"white\", \"gridwidth\": 2, \"linecolor\": \"white\", \"showbackground\": true, \"ticks\": \"\", \"zerolinecolor\": \"white\"}, \"zaxis\": {\"backgroundcolor\": \"#E5ECF6\", \"gridcolor\": \"white\", \"gridwidth\": 2, \"linecolor\": \"white\", \"showbackground\": true, \"ticks\": \"\", \"zerolinecolor\": \"white\"}}, \"shapedefaults\": {\"line\": {\"color\": \"#2a3f5f\"}}, \"ternary\": {\"aaxis\": {\"gridcolor\": \"white\", \"linecolor\": \"white\", \"ticks\": \"\"}, \"baxis\": {\"gridcolor\": \"white\", \"linecolor\": \"white\", \"ticks\": \"\"}, \"bgcolor\": \"#E5ECF6\", \"caxis\": {\"gridcolor\": \"white\", \"linecolor\": \"white\", \"ticks\": \"\"}}, \"title\": {\"x\": 0.05}, \"xaxis\": {\"automargin\": true, \"gridcolor\": \"white\", \"linecolor\": \"white\", \"ticks\": \"\", \"title\": {\"standoff\": 15}, \"zerolinecolor\": \"white\", \"zerolinewidth\": 2}, \"yaxis\": {\"automargin\": true, \"gridcolor\": \"white\", \"linecolor\": \"white\", \"ticks\": \"\", \"title\": {\"standoff\": 15}, \"zerolinecolor\": \"white\", \"zerolinewidth\": 2}}}, \"title\": {\"text\": \"Total number of votes\"}, \"xaxis\": {\"anchor\": \"y\", \"domain\": [0.0, 1.0], \"title\": {\"text\": \"Candidate\"}}, \"yaxis\": {\"anchor\": \"x\", \"domain\": [0.0, 1.0], \"title\": {\"text\": \"Result\"}}},\n",
       "                        {\"responsive\": true}\n",
       "                    ).then(function(){\n",
       "                            \n",
       "var gd = document.getElementById('0178c387-6367-44c4-92a3-b163af2848e4');\n",
       "var x = new MutationObserver(function (mutations, observer) {{\n",
       "        var display = window.getComputedStyle(gd).display;\n",
       "        if (!display || display === 'none') {{\n",
       "            console.log([gd, 'removed!']);\n",
       "            Plotly.purge(gd);\n",
       "            observer.disconnect();\n",
       "        }}\n",
       "}});\n",
       "\n",
       "// Listen for the removal of the full notebook cells\n",
       "var notebookContainer = gd.closest('#notebook-container');\n",
       "if (notebookContainer) {{\n",
       "    x.observe(notebookContainer, {childList: true});\n",
       "}}\n",
       "\n",
       "// Listen for the clearing of the current output cell\n",
       "var outputEl = gd.closest('.output');\n",
       "if (outputEl) {{\n",
       "    x.observe(outputEl, {childList: true});\n",
       "}}\n",
       "\n",
       "                        })\n",
       "                };\n",
       "                });\n",
       "            </script>\n",
       "        </div>"
      ]
     },
     "metadata": {},
     "output_type": "display_data"
    }
   ],
   "source": [
    "fig = px.bar(results_df, x='Candidate', y='Result', title='Total number of votes')\n",
    "fig.show()"
   ]
  },
  {
   "cell_type": "markdown",
   "metadata": {},
   "source": [
    "But we also want to see the results in percents. We find the total number of votes to get that information."
   ]
  },
  {
   "cell_type": "code",
   "execution_count": 55,
   "metadata": {},
   "outputs": [
    {
     "data": {
      "text/plain": [
       "19262568"
      ]
     },
     "execution_count": 55,
     "metadata": {},
     "output_type": "execute_result"
    }
   ],
   "source": [
    "total_num_of_votes = results_df['Result'].sum()\n",
    "total_num_of_votes"
   ]
  },
  {
   "cell_type": "code",
   "execution_count": 59,
   "metadata": {},
   "outputs": [],
   "source": [
    "def find_percent(n):\n",
    "    \"\"\"Find the percent of n with regards to the total number of votes.\"\"\"\n",
    "    return round(n / total_num_of_votes * 100, 2)"
   ]
  },
  {
   "cell_type": "code",
   "execution_count": 64,
   "metadata": {},
   "outputs": [
    {
     "data": {
      "text/html": [
       "<div>\n",
       "<style scoped>\n",
       "    .dataframe tbody tr th:only-of-type {\n",
       "        vertical-align: middle;\n",
       "    }\n",
       "\n",
       "    .dataframe tbody tr th {\n",
       "        vertical-align: top;\n",
       "    }\n",
       "\n",
       "    .dataframe thead th {\n",
       "        text-align: right;\n",
       "    }\n",
       "</style>\n",
       "<table border=\"1\" class=\"dataframe\">\n",
       "  <thead>\n",
       "    <tr style=\"text-align: right;\">\n",
       "      <th></th>\n",
       "      <th>Candidate</th>\n",
       "      <th>Result</th>\n",
       "    </tr>\n",
       "  </thead>\n",
       "  <tbody>\n",
       "    <tr>\n",
       "      <th>0</th>\n",
       "      <td>Andrzej Sebastian DUDA</td>\n",
       "      <td>43.67</td>\n",
       "    </tr>\n",
       "    <tr>\n",
       "      <th>1</th>\n",
       "      <td>Rafał Kazimierz TRZASKOWSKI</td>\n",
       "      <td>30.34</td>\n",
       "    </tr>\n",
       "    <tr>\n",
       "      <th>2</th>\n",
       "      <td>Szymon Franciszek HOŁOWNIA</td>\n",
       "      <td>13.85</td>\n",
       "    </tr>\n",
       "    <tr>\n",
       "      <th>3</th>\n",
       "      <td>Krzysztof BOSAK</td>\n",
       "      <td>6.75</td>\n",
       "    </tr>\n",
       "    <tr>\n",
       "      <th>4</th>\n",
       "      <td>Władysław Marcin KOSINIAK-KAMYSZ</td>\n",
       "      <td>2.37</td>\n",
       "    </tr>\n",
       "    <tr>\n",
       "      <th>5</th>\n",
       "      <td>Robert BIEDROŃ</td>\n",
       "      <td>2.21</td>\n",
       "    </tr>\n",
       "    <tr>\n",
       "      <th>6</th>\n",
       "      <td>Stanisław Józef ŻÓŁTEK</td>\n",
       "      <td>0.23</td>\n",
       "    </tr>\n",
       "    <tr>\n",
       "      <th>7</th>\n",
       "      <td>Marek JAKUBIAK</td>\n",
       "      <td>0.17</td>\n",
       "    </tr>\n",
       "    <tr>\n",
       "      <th>8</th>\n",
       "      <td>Paweł Jan TANAJNO</td>\n",
       "      <td>0.14</td>\n",
       "    </tr>\n",
       "    <tr>\n",
       "      <th>9</th>\n",
       "      <td>Waldemar Włodzimierz WITKOWSKI</td>\n",
       "      <td>0.14</td>\n",
       "    </tr>\n",
       "    <tr>\n",
       "      <th>10</th>\n",
       "      <td>Mirosław Mariusz PIOTROWSKI</td>\n",
       "      <td>0.11</td>\n",
       "    </tr>\n",
       "  </tbody>\n",
       "</table>\n",
       "</div>"
      ],
      "text/plain": [
       "                           Candidate  Result\n",
       "0             Andrzej Sebastian DUDA   43.67\n",
       "1        Rafał Kazimierz TRZASKOWSKI   30.34\n",
       "2         Szymon Franciszek HOŁOWNIA   13.85\n",
       "3                    Krzysztof BOSAK    6.75\n",
       "4   Władysław Marcin KOSINIAK-KAMYSZ    2.37\n",
       "5                     Robert BIEDROŃ    2.21\n",
       "6             Stanisław Józef ŻÓŁTEK    0.23\n",
       "7                     Marek JAKUBIAK    0.17\n",
       "8                  Paweł Jan TANAJNO    0.14\n",
       "9     Waldemar Włodzimierz WITKOWSKI    0.14\n",
       "10       Mirosław Mariusz PIOTROWSKI    0.11"
      ]
     },
     "execution_count": 64,
     "metadata": {},
     "output_type": "execute_result"
    }
   ],
   "source": [
    "results_percent_df = pd.concat([results_df['Candidate'], results_df['Result'].map(find_percent)], axis=1)\n",
    "results_percent_df"
   ]
  },
  {
   "cell_type": "markdown",
   "metadata": {},
   "source": [
    "TODO: plot counties map"
   ]
  },
  {
   "cell_type": "code",
   "execution_count": 19,
   "metadata": {},
   "outputs": [],
   "source": [
    "import geopandas as gpd"
   ]
  },
  {
   "cell_type": "code",
   "execution_count": 24,
   "metadata": {},
   "outputs": [],
   "source": [
    "gdf = gpd.GeoDataFrame.from_file(\n",
    "    'data/counties/counties.shp', encoding = 'utf-8'\n",
    ")"
   ]
  },
  {
   "cell_type": "code",
   "execution_count": 25,
   "metadata": {},
   "outputs": [],
   "source": [
    "gdf = gdf[['JPT_NAZWA_', 'JPT_KOD_JE', 'geometry']]"
   ]
  },
  {
   "cell_type": "code",
   "execution_count": 26,
   "metadata": {},
   "outputs": [],
   "source": [
    "gdf.columns = ['county name', 'TERYT', 'geometry']"
   ]
  },
  {
   "cell_type": "code",
   "execution_count": 27,
   "metadata": {},
   "outputs": [
    {
     "data": {
      "text/html": [
       "<div>\n",
       "<style scoped>\n",
       "    .dataframe tbody tr th:only-of-type {\n",
       "        vertical-align: middle;\n",
       "    }\n",
       "\n",
       "    .dataframe tbody tr th {\n",
       "        vertical-align: top;\n",
       "    }\n",
       "\n",
       "    .dataframe thead th {\n",
       "        text-align: right;\n",
       "    }\n",
       "</style>\n",
       "<table border=\"1\" class=\"dataframe\">\n",
       "  <thead>\n",
       "    <tr style=\"text-align: right;\">\n",
       "      <th></th>\n",
       "      <th>county name</th>\n",
       "      <th>TERYT</th>\n",
       "      <th>geometry</th>\n",
       "    </tr>\n",
       "  </thead>\n",
       "  <tbody>\n",
       "    <tr>\n",
       "      <th>0</th>\n",
       "      <td>powiat ropczycko-sędziszowski</td>\n",
       "      <td>1815</td>\n",
       "      <td>POLYGON ((21.69429 50.17849, 21.69440 50.17849...</td>\n",
       "    </tr>\n",
       "    <tr>\n",
       "      <th>1</th>\n",
       "      <td>powiat łosicki</td>\n",
       "      <td>1410</td>\n",
       "      <td>POLYGON ((22.72381 52.28039, 22.72379 52.28043...</td>\n",
       "    </tr>\n",
       "    <tr>\n",
       "      <th>2</th>\n",
       "      <td>powiat piaseczyński</td>\n",
       "      <td>1418</td>\n",
       "      <td>POLYGON ((21.11010 52.11317, 21.10875 52.11459...</td>\n",
       "    </tr>\n",
       "    <tr>\n",
       "      <th>3</th>\n",
       "      <td>powiat radomski</td>\n",
       "      <td>1425</td>\n",
       "      <td>POLYGON ((20.98915 51.48947, 20.98919 51.48942...</td>\n",
       "    </tr>\n",
       "    <tr>\n",
       "      <th>4</th>\n",
       "      <td>powiat sierpecki</td>\n",
       "      <td>1427</td>\n",
       "      <td>POLYGON ((19.50876 52.86784, 19.50873 52.86795...</td>\n",
       "    </tr>\n",
       "    <tr>\n",
       "      <th>...</th>\n",
       "      <td>...</td>\n",
       "      <td>...</td>\n",
       "      <td>...</td>\n",
       "    </tr>\n",
       "    <tr>\n",
       "      <th>375</th>\n",
       "      <td>powiat Żory</td>\n",
       "      <td>2479</td>\n",
       "      <td>MULTIPOLYGON (((18.64184 50.06883, 18.64168 50...</td>\n",
       "    </tr>\n",
       "    <tr>\n",
       "      <th>376</th>\n",
       "      <td>powiat nowodworski</td>\n",
       "      <td>2210</td>\n",
       "      <td>POLYGON ((19.33018 54.36649, 19.33137 54.36671...</td>\n",
       "    </tr>\n",
       "    <tr>\n",
       "      <th>377</th>\n",
       "      <td>powiat jaworski</td>\n",
       "      <td>0205</td>\n",
       "      <td>POLYGON ((16.19848 51.01198, 16.19854 51.01167...</td>\n",
       "    </tr>\n",
       "    <tr>\n",
       "      <th>378</th>\n",
       "      <td>powiat poznański</td>\n",
       "      <td>3021</td>\n",
       "      <td>POLYGON ((16.60048 52.41223, 16.60044 52.41277...</td>\n",
       "    </tr>\n",
       "    <tr>\n",
       "      <th>379</th>\n",
       "      <td>powiat koniński</td>\n",
       "      <td>3010</td>\n",
       "      <td>POLYGON ((18.07203 52.47335, 18.07204 52.47403...</td>\n",
       "    </tr>\n",
       "  </tbody>\n",
       "</table>\n",
       "<p>380 rows × 3 columns</p>\n",
       "</div>"
      ],
      "text/plain": [
       "                       county name TERYT  \\\n",
       "0    powiat ropczycko-sędziszowski  1815   \n",
       "1                   powiat łosicki  1410   \n",
       "2              powiat piaseczyński  1418   \n",
       "3                  powiat radomski  1425   \n",
       "4                 powiat sierpecki  1427   \n",
       "..                             ...   ...   \n",
       "375                    powiat Żory  2479   \n",
       "376             powiat nowodworski  2210   \n",
       "377                powiat jaworski  0205   \n",
       "378               powiat poznański  3021   \n",
       "379                powiat koniński  3010   \n",
       "\n",
       "                                              geometry  \n",
       "0    POLYGON ((21.69429 50.17849, 21.69440 50.17849...  \n",
       "1    POLYGON ((22.72381 52.28039, 22.72379 52.28043...  \n",
       "2    POLYGON ((21.11010 52.11317, 21.10875 52.11459...  \n",
       "3    POLYGON ((20.98915 51.48947, 20.98919 51.48942...  \n",
       "4    POLYGON ((19.50876 52.86784, 19.50873 52.86795...  \n",
       "..                                                 ...  \n",
       "375  MULTIPOLYGON (((18.64184 50.06883, 18.64168 50...  \n",
       "376  POLYGON ((19.33018 54.36649, 19.33137 54.36671...  \n",
       "377  POLYGON ((16.19848 51.01198, 16.19854 51.01167...  \n",
       "378  POLYGON ((16.60048 52.41223, 16.60044 52.41277...  \n",
       "379  POLYGON ((18.07203 52.47335, 18.07204 52.47403...  \n",
       "\n",
       "[380 rows x 3 columns]"
      ]
     },
     "execution_count": 27,
     "metadata": {},
     "output_type": "execute_result"
    }
   ],
   "source": [
    "gdf"
   ]
  }
 ],
 "metadata": {
  "kernelspec": {
   "display_name": "Python 3",
   "language": "python",
   "name": "python3"
  },
  "language_info": {
   "codemirror_mode": {
    "name": "ipython",
    "version": 3
   },
   "file_extension": ".py",
   "mimetype": "text/x-python",
   "name": "python",
   "nbconvert_exporter": "python",
   "pygments_lexer": "ipython3",
   "version": "3.8.3"
  }
 },
 "nbformat": 4,
 "nbformat_minor": 4
}
